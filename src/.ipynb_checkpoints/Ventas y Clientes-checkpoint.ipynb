{
 "cells": [
  {
   "cell_type": "markdown",
   "id": "dangerous-bruce",
   "metadata": {},
   "source": [
    "# Análisis de ventas "
   ]
  },
  {
   "cell_type": "markdown",
   "id": "refined-mining",
   "metadata": {},
   "source": [
    "### A partir de los datos de las ventas realizadas y de los datos de los clientes se lleva a cabo un análisis de las ventas."
   ]
  },
  {
   "cell_type": "code",
   "execution_count": 1,
   "id": "active-public",
   "metadata": {},
   "outputs": [],
   "source": [
    "import pandas as pd\n",
    "import numpy as np"
   ]
  },
  {
   "cell_type": "markdown",
   "id": "extended-crossing",
   "metadata": {},
   "source": [
    "#### Datos de los clientes"
   ]
  },
  {
   "cell_type": "code",
   "execution_count": 59,
   "id": "fundamental-airline",
   "metadata": {},
   "outputs": [
    {
     "data": {
      "text/html": [
       "<div>\n",
       "<style scoped>\n",
       "    .dataframe tbody tr th:only-of-type {\n",
       "        vertical-align: middle;\n",
       "    }\n",
       "\n",
       "    .dataframe tbody tr th {\n",
       "        vertical-align: top;\n",
       "    }\n",
       "\n",
       "    .dataframe thead th {\n",
       "        text-align: right;\n",
       "    }\n",
       "</style>\n",
       "<table border=\"1\" class=\"dataframe\">\n",
       "  <thead>\n",
       "    <tr style=\"text-align: right;\">\n",
       "      <th></th>\n",
       "      <th>Cliente</th>\n",
       "      <th>Nombre</th>\n",
       "      <th>Sexo</th>\n",
       "      <th>Zona</th>\n",
       "    </tr>\n",
       "  </thead>\n",
       "  <tbody>\n",
       "    <tr>\n",
       "      <th>0</th>\n",
       "      <td>9001</td>\n",
       "      <td>Ana_1</td>\n",
       "      <td>F</td>\n",
       "      <td>Buenos Aires</td>\n",
       "    </tr>\n",
       "    <tr>\n",
       "      <th>1</th>\n",
       "      <td>9002</td>\n",
       "      <td>Juan_1</td>\n",
       "      <td>M</td>\n",
       "      <td>Capital Federal</td>\n",
       "    </tr>\n",
       "    <tr>\n",
       "      <th>2</th>\n",
       "      <td>9003</td>\n",
       "      <td>Pedro_1</td>\n",
       "      <td>M</td>\n",
       "      <td>Capital Federal</td>\n",
       "    </tr>\n",
       "    <tr>\n",
       "      <th>3</th>\n",
       "      <td>9004</td>\n",
       "      <td>Romina_1</td>\n",
       "      <td>F</td>\n",
       "      <td>Buenos Aires</td>\n",
       "    </tr>\n",
       "    <tr>\n",
       "      <th>4</th>\n",
       "      <td>9005</td>\n",
       "      <td>Ana_2</td>\n",
       "      <td>F</td>\n",
       "      <td>Buenos Aires</td>\n",
       "    </tr>\n",
       "  </tbody>\n",
       "</table>\n",
       "</div>"
      ],
      "text/plain": [
       "   Cliente    Nombre Sexo             Zona\n",
       "0     9001     Ana_1    F     Buenos Aires\n",
       "1     9002    Juan_1    M  Capital Federal\n",
       "2     9003   Pedro_1    M  Capital Federal\n",
       "3     9004  Romina_1    F     Buenos Aires\n",
       "4     9005     Ana_2    F     Buenos Aires"
      ]
     },
     "execution_count": 59,
     "metadata": {},
     "output_type": "execute_result"
    }
   ],
   "source": [
    "clientes = pd.read_csv('Clientes.csv', sep=';')\n",
    "clientes.head()"
   ]
  },
  {
   "cell_type": "markdown",
   "id": "studied-raise",
   "metadata": {},
   "source": [
    "#### Datos de las ventas"
   ]
  },
  {
   "cell_type": "code",
   "execution_count": 60,
   "id": "royal-composite",
   "metadata": {},
   "outputs": [
    {
     "data": {
      "text/html": [
       "<div>\n",
       "<style scoped>\n",
       "    .dataframe tbody tr th:only-of-type {\n",
       "        vertical-align: middle;\n",
       "    }\n",
       "\n",
       "    .dataframe tbody tr th {\n",
       "        vertical-align: top;\n",
       "    }\n",
       "\n",
       "    .dataframe thead th {\n",
       "        text-align: right;\n",
       "    }\n",
       "</style>\n",
       "<table border=\"1\" class=\"dataframe\">\n",
       "  <thead>\n",
       "    <tr style=\"text-align: right;\">\n",
       "      <th></th>\n",
       "      <th>Cliente</th>\n",
       "      <th>Fecha</th>\n",
       "      <th>Importe</th>\n",
       "      <th>Estado</th>\n",
       "    </tr>\n",
       "  </thead>\n",
       "  <tbody>\n",
       "    <tr>\n",
       "      <th>0</th>\n",
       "      <td>9452</td>\n",
       "      <td>01/01/2020</td>\n",
       "      <td>51356</td>\n",
       "      <td>Completado</td>\n",
       "    </tr>\n",
       "    <tr>\n",
       "      <th>1</th>\n",
       "      <td>9567</td>\n",
       "      <td>01/01/2020</td>\n",
       "      <td>96994</td>\n",
       "      <td>Completado</td>\n",
       "    </tr>\n",
       "    <tr>\n",
       "      <th>2</th>\n",
       "      <td>10551</td>\n",
       "      <td>01/01/2020</td>\n",
       "      <td>33280</td>\n",
       "      <td>Completado</td>\n",
       "    </tr>\n",
       "    <tr>\n",
       "      <th>3</th>\n",
       "      <td>9320</td>\n",
       "      <td>01/01/2020</td>\n",
       "      <td>18045</td>\n",
       "      <td>Completado</td>\n",
       "    </tr>\n",
       "    <tr>\n",
       "      <th>4</th>\n",
       "      <td>9043</td>\n",
       "      <td>01/01/2020</td>\n",
       "      <td>2286</td>\n",
       "      <td>Completado</td>\n",
       "    </tr>\n",
       "  </tbody>\n",
       "</table>\n",
       "</div>"
      ],
      "text/plain": [
       "   Cliente       Fecha  Importe      Estado\n",
       "0     9452  01/01/2020    51356  Completado\n",
       "1     9567  01/01/2020    96994  Completado\n",
       "2    10551  01/01/2020    33280  Completado\n",
       "3     9320  01/01/2020    18045  Completado\n",
       "4     9043  01/01/2020     2286  Completado"
      ]
     },
     "execution_count": 60,
     "metadata": {},
     "output_type": "execute_result"
    }
   ],
   "source": [
    "ventas = pd.read_csv('Ventas.csv')\n",
    "ventas.head()"
   ]
  },
  {
   "cell_type": "markdown",
   "id": "ceramic-volunteer",
   "metadata": {},
   "source": [
    "#### Combinamos ambos datasets"
   ]
  },
  {
   "cell_type": "code",
   "execution_count": 73,
   "id": "contrary-marine",
   "metadata": {},
   "outputs": [
    {
     "data": {
      "text/html": [
       "<div>\n",
       "<style scoped>\n",
       "    .dataframe tbody tr th:only-of-type {\n",
       "        vertical-align: middle;\n",
       "    }\n",
       "\n",
       "    .dataframe tbody tr th {\n",
       "        vertical-align: top;\n",
       "    }\n",
       "\n",
       "    .dataframe thead th {\n",
       "        text-align: right;\n",
       "    }\n",
       "</style>\n",
       "<table border=\"1\" class=\"dataframe\">\n",
       "  <thead>\n",
       "    <tr style=\"text-align: right;\">\n",
       "      <th></th>\n",
       "      <th>Cliente</th>\n",
       "      <th>Fecha</th>\n",
       "      <th>Importe</th>\n",
       "      <th>Estado</th>\n",
       "      <th>Nombre</th>\n",
       "      <th>Sexo</th>\n",
       "      <th>Zona</th>\n",
       "    </tr>\n",
       "  </thead>\n",
       "  <tbody>\n",
       "    <tr>\n",
       "      <th>0</th>\n",
       "      <td>9452</td>\n",
       "      <td>01/01/2020</td>\n",
       "      <td>51356</td>\n",
       "      <td>Completado</td>\n",
       "      <td>Romina_113</td>\n",
       "      <td>F</td>\n",
       "      <td>Capital Federal</td>\n",
       "    </tr>\n",
       "    <tr>\n",
       "      <th>1</th>\n",
       "      <td>9452</td>\n",
       "      <td>23/01/2020</td>\n",
       "      <td>79480</td>\n",
       "      <td>Completado</td>\n",
       "      <td>Romina_113</td>\n",
       "      <td>F</td>\n",
       "      <td>Capital Federal</td>\n",
       "    </tr>\n",
       "    <tr>\n",
       "      <th>2</th>\n",
       "      <td>9452</td>\n",
       "      <td>01/02/2020</td>\n",
       "      <td>3701</td>\n",
       "      <td>Completado</td>\n",
       "      <td>Romina_113</td>\n",
       "      <td>F</td>\n",
       "      <td>Capital Federal</td>\n",
       "    </tr>\n",
       "    <tr>\n",
       "      <th>3</th>\n",
       "      <td>9452</td>\n",
       "      <td>24/03/2020</td>\n",
       "      <td>9367</td>\n",
       "      <td>Completado</td>\n",
       "      <td>Romina_113</td>\n",
       "      <td>F</td>\n",
       "      <td>Capital Federal</td>\n",
       "    </tr>\n",
       "    <tr>\n",
       "      <th>4</th>\n",
       "      <td>9452</td>\n",
       "      <td>12/07/2020</td>\n",
       "      <td>34220</td>\n",
       "      <td>Completado</td>\n",
       "      <td>Romina_113</td>\n",
       "      <td>F</td>\n",
       "      <td>Capital Federal</td>\n",
       "    </tr>\n",
       "  </tbody>\n",
       "</table>\n",
       "</div>"
      ],
      "text/plain": [
       "   Cliente       Fecha  Importe      Estado      Nombre Sexo             Zona\n",
       "0     9452  01/01/2020    51356  Completado  Romina_113    F  Capital Federal\n",
       "1     9452  23/01/2020    79480  Completado  Romina_113    F  Capital Federal\n",
       "2     9452  01/02/2020     3701  Completado  Romina_113    F  Capital Federal\n",
       "3     9452  24/03/2020     9367  Completado  Romina_113    F  Capital Federal\n",
       "4     9452  12/07/2020    34220  Completado  Romina_113    F  Capital Federal"
      ]
     },
     "execution_count": 73,
     "metadata": {},
     "output_type": "execute_result"
    }
   ],
   "source": [
    "data = ventas.merge(clientes, on='Cliente')\n",
    "data.head()"
   ]
  },
  {
   "cell_type": "markdown",
   "id": "assured-remains",
   "metadata": {},
   "source": [
    "#### Pasamos la fecha a datetime"
   ]
  },
  {
   "cell_type": "code",
   "execution_count": 85,
   "id": "composed-buffalo",
   "metadata": {},
   "outputs": [],
   "source": [
    "data['Fecha'] = pd.to_datetime(data['Fecha'],format='%d/%M/%Y', errors='Coerce')"
   ]
  },
  {
   "cell_type": "code",
   "execution_count": 86,
   "id": "uniform-butler",
   "metadata": {},
   "outputs": [
    {
     "data": {
      "text/plain": [
       "dtype('<M8[ns]')"
      ]
     },
     "execution_count": 86,
     "metadata": {},
     "output_type": "execute_result"
    }
   ],
   "source": [
    "data.Fecha.dtypes"
   ]
  },
  {
   "cell_type": "markdown",
   "id": "subsequent-mailman",
   "metadata": {},
   "source": [
    "#### Exportamos el dataset a un csv"
   ]
  },
  {
   "cell_type": "code",
   "execution_count": 84,
   "id": "norman-queue",
   "metadata": {},
   "outputs": [],
   "source": [
    "data.to_csv('ventas_clientes.csv', index=False)"
   ]
  },
  {
   "cell_type": "markdown",
   "id": "universal-samba",
   "metadata": {},
   "source": [
    "## Analizamos compras realizadas por distintos clientes. \n",
    "#### Info disponible: fecha de compra, numero de cliente, precio, el estado de la compra (completado o en viaje), nombre de la persona, sexo y ubicacion."
   ]
  },
  {
   "cell_type": "code",
   "execution_count": 49,
   "id": "differential-senior",
   "metadata": {},
   "outputs": [
    {
     "data": {
      "text/plain": [
       "1624"
      ]
     },
     "execution_count": 49,
     "metadata": {},
     "output_type": "execute_result"
    }
   ],
   "source": [
    "data.Cliente.nunique() # Hay 1624 clientes"
   ]
  },
  {
   "cell_type": "code",
   "execution_count": 50,
   "id": "backed-matthew",
   "metadata": {},
   "outputs": [
    {
     "data": {
      "text/plain": [
       "Completado    6833\n",
       "En Viaje        27\n",
       "Name: Estado, dtype: int64"
      ]
     },
     "execution_count": 50,
     "metadata": {},
     "output_type": "execute_result"
    }
   ],
   "source": [
    "data.Estado.value_counts() # Hay 27 en viaje"
   ]
  },
  {
   "cell_type": "code",
   "execution_count": 92,
   "id": "minimal-allen",
   "metadata": {},
   "outputs": [
    {
     "data": {
      "text/plain": [
       "9359     12\n",
       "9827     11\n",
       "9869     10\n",
       "9504     10\n",
       "9136     10\n",
       "         ..\n",
       "9054      1\n",
       "10033     1\n",
       "9947      1\n",
       "10232     1\n",
       "9297      1\n",
       "Name: Cliente, Length: 1624, dtype: int64"
      ]
     },
     "execution_count": 92,
     "metadata": {},
     "output_type": "execute_result"
    }
   ],
   "source": [
    "data.Cliente.value_counts() # Cantidad de compras que hizo cada cliente"
   ]
  },
  {
   "cell_type": "markdown",
   "id": "appropriate-decision",
   "metadata": {},
   "source": [
    "#### Clientes que más gastaron"
   ]
  },
  {
   "cell_type": "code",
   "execution_count": 51,
   "id": "reasonable-somalia",
   "metadata": {},
   "outputs": [],
   "source": [
    "clientes_caros = pd.DataFrame(data.Importe.groupby(by=data['Cliente']).sum())\n",
    "clientes_caros = clientes_caros.sort_values(by='Importe', ascending=False)"
   ]
  },
  {
   "cell_type": "code",
   "execution_count": 87,
   "id": "illegal-leave",
   "metadata": {},
   "outputs": [],
   "source": [
    "clientes_caros['Porcentaje del total'] = (clientes_caros['Importe']*100)/(clientes_caros['Importe'].sum())"
   ]
  },
  {
   "cell_type": "code",
   "execution_count": 89,
   "id": "comic-collar",
   "metadata": {},
   "outputs": [
    {
     "data": {
      "text/html": [
       "<div>\n",
       "<style scoped>\n",
       "    .dataframe tbody tr th:only-of-type {\n",
       "        vertical-align: middle;\n",
       "    }\n",
       "\n",
       "    .dataframe tbody tr th {\n",
       "        vertical-align: top;\n",
       "    }\n",
       "\n",
       "    .dataframe thead th {\n",
       "        text-align: right;\n",
       "    }\n",
       "</style>\n",
       "<table border=\"1\" class=\"dataframe\">\n",
       "  <thead>\n",
       "    <tr style=\"text-align: right;\">\n",
       "      <th></th>\n",
       "      <th>Importe</th>\n",
       "      <th>Porcentaje del total</th>\n",
       "    </tr>\n",
       "    <tr>\n",
       "      <th>Cliente</th>\n",
       "      <th></th>\n",
       "      <th></th>\n",
       "    </tr>\n",
       "  </thead>\n",
       "  <tbody>\n",
       "    <tr>\n",
       "      <th>9869</th>\n",
       "      <td>624944</td>\n",
       "      <td>0.180226</td>\n",
       "    </tr>\n",
       "    <tr>\n",
       "      <th>10377</th>\n",
       "      <td>614929</td>\n",
       "      <td>0.177338</td>\n",
       "    </tr>\n",
       "    <tr>\n",
       "      <th>10373</th>\n",
       "      <td>607407</td>\n",
       "      <td>0.175168</td>\n",
       "    </tr>\n",
       "    <tr>\n",
       "      <th>9576</th>\n",
       "      <td>593188</td>\n",
       "      <td>0.171068</td>\n",
       "    </tr>\n",
       "    <tr>\n",
       "      <th>10168</th>\n",
       "      <td>586896</td>\n",
       "      <td>0.169253</td>\n",
       "    </tr>\n",
       "    <tr>\n",
       "      <th>...</th>\n",
       "      <td>...</td>\n",
       "      <td>...</td>\n",
       "    </tr>\n",
       "    <tr>\n",
       "      <th>9475</th>\n",
       "      <td>4924</td>\n",
       "      <td>0.001420</td>\n",
       "    </tr>\n",
       "    <tr>\n",
       "      <th>9338</th>\n",
       "      <td>4374</td>\n",
       "      <td>0.001261</td>\n",
       "    </tr>\n",
       "    <tr>\n",
       "      <th>9445</th>\n",
       "      <td>3494</td>\n",
       "      <td>0.001008</td>\n",
       "    </tr>\n",
       "    <tr>\n",
       "      <th>9078</th>\n",
       "      <td>1915</td>\n",
       "      <td>0.000552</td>\n",
       "    </tr>\n",
       "    <tr>\n",
       "      <th>10154</th>\n",
       "      <td>1833</td>\n",
       "      <td>0.000529</td>\n",
       "    </tr>\n",
       "  </tbody>\n",
       "</table>\n",
       "<p>1624 rows × 2 columns</p>\n",
       "</div>"
      ],
      "text/plain": [
       "         Importe  Porcentaje del total\n",
       "Cliente                               \n",
       "9869      624944              0.180226\n",
       "10377     614929              0.177338\n",
       "10373     607407              0.175168\n",
       "9576      593188              0.171068\n",
       "10168     586896              0.169253\n",
       "...          ...                   ...\n",
       "9475        4924              0.001420\n",
       "9338        4374              0.001261\n",
       "9445        3494              0.001008\n",
       "9078        1915              0.000552\n",
       "10154       1833              0.000529\n",
       "\n",
       "[1624 rows x 2 columns]"
      ]
     },
     "execution_count": 89,
     "metadata": {},
     "output_type": "execute_result"
    }
   ],
   "source": [
    "clientes_caros # Porcentaje que representa el importe gastado por cada cliente del total gastado por \n",
    "                # todos los clientes"
   ]
  },
  {
   "cell_type": "code",
   "execution_count": 56,
   "id": "chemical-happening",
   "metadata": {},
   "outputs": [
    {
     "data": {
      "text/plain": [
       "Capital Federal    4127\n",
       "Buenos Aires       1696\n",
       "Cordoba             715\n",
       "Santa Fe            322\n",
       "Name: Zona, dtype: int64"
      ]
     },
     "execution_count": 56,
     "metadata": {},
     "output_type": "execute_result"
    }
   ],
   "source": [
    "data.Zona.value_counts() # La mayor cantidad de compras se da en capital, luego buenos aires, cordoba y sante fe"
   ]
  },
  {
   "cell_type": "code",
   "execution_count": 58,
   "id": "democratic-russian",
   "metadata": {},
   "outputs": [
    {
     "data": {
      "text/plain": [
       "F    3472\n",
       "M    3388\n",
       "Name: Sexo, dtype: int64"
      ]
     },
     "execution_count": 58,
     "metadata": {},
     "output_type": "execute_result"
    }
   ],
   "source": [
    "data.Sexo.value_counts() # Las compras se distribuyen proporcionalmente entre hombres y mujeres"
   ]
  },
  {
   "cell_type": "code",
   "execution_count": null,
   "id": "patent-kenya",
   "metadata": {},
   "outputs": [],
   "source": []
  }
 ],
 "metadata": {
  "kernelspec": {
   "display_name": "Python 3",
   "language": "python",
   "name": "python3"
  },
  "language_info": {
   "codemirror_mode": {
    "name": "ipython",
    "version": 3
   },
   "file_extension": ".py",
   "mimetype": "text/x-python",
   "name": "python",
   "nbconvert_exporter": "python",
   "pygments_lexer": "ipython3",
   "version": "3.8.6"
  }
 },
 "nbformat": 4,
 "nbformat_minor": 5
}
