{
 "cells": [
  {
   "cell_type": "markdown",
   "id": "dangerous-bruce",
   "metadata": {},
   "source": [
    "# Análisis de ventas "
   ]
  },
  {
   "cell_type": "markdown",
   "id": "refined-mining",
   "metadata": {},
   "source": [
    "### A partir de los datos de las ventas realizadas y de los datos de los clientes se lleva a cabo un análisis de las ventas."
   ]
  },
  {
   "cell_type": "code",
   "execution_count": 1,
   "id": "active-public",
   "metadata": {},
   "outputs": [],
   "source": [
    "import pandas as pd\n",
    "import numpy as np"
   ]
  },
  {
   "cell_type": "markdown",
   "id": "extended-crossing",
   "metadata": {},
   "source": [
    "#### Datos de los clientes"
   ]
  },
  {
   "cell_type": "code",
   "execution_count": 2,
   "id": "fundamental-airline",
   "metadata": {},
   "outputs": [
    {
     "data": {
      "text/html": [
       "<div>\n",
       "<style scoped>\n",
       "    .dataframe tbody tr th:only-of-type {\n",
       "        vertical-align: middle;\n",
       "    }\n",
       "\n",
       "    .dataframe tbody tr th {\n",
       "        vertical-align: top;\n",
       "    }\n",
       "\n",
       "    .dataframe thead th {\n",
       "        text-align: right;\n",
       "    }\n",
       "</style>\n",
       "<table border=\"1\" class=\"dataframe\">\n",
       "  <thead>\n",
       "    <tr style=\"text-align: right;\">\n",
       "      <th></th>\n",
       "      <th>Cliente</th>\n",
       "      <th>Nombre</th>\n",
       "      <th>Sexo</th>\n",
       "      <th>Zona</th>\n",
       "    </tr>\n",
       "  </thead>\n",
       "  <tbody>\n",
       "    <tr>\n",
       "      <th>0</th>\n",
       "      <td>9001</td>\n",
       "      <td>Ana_1</td>\n",
       "      <td>F</td>\n",
       "      <td>Buenos Aires</td>\n",
       "    </tr>\n",
       "    <tr>\n",
       "      <th>1</th>\n",
       "      <td>9002</td>\n",
       "      <td>Juan_1</td>\n",
       "      <td>M</td>\n",
       "      <td>Capital Federal</td>\n",
       "    </tr>\n",
       "    <tr>\n",
       "      <th>2</th>\n",
       "      <td>9003</td>\n",
       "      <td>Pedro_1</td>\n",
       "      <td>M</td>\n",
       "      <td>Capital Federal</td>\n",
       "    </tr>\n",
       "    <tr>\n",
       "      <th>3</th>\n",
       "      <td>9004</td>\n",
       "      <td>Romina_1</td>\n",
       "      <td>F</td>\n",
       "      <td>Buenos Aires</td>\n",
       "    </tr>\n",
       "    <tr>\n",
       "      <th>4</th>\n",
       "      <td>9005</td>\n",
       "      <td>Ana_2</td>\n",
       "      <td>F</td>\n",
       "      <td>Buenos Aires</td>\n",
       "    </tr>\n",
       "  </tbody>\n",
       "</table>\n",
       "</div>"
      ],
      "text/plain": [
       "   Cliente    Nombre Sexo             Zona\n",
       "0     9001     Ana_1    F     Buenos Aires\n",
       "1     9002    Juan_1    M  Capital Federal\n",
       "2     9003   Pedro_1    M  Capital Federal\n",
       "3     9004  Romina_1    F     Buenos Aires\n",
       "4     9005     Ana_2    F     Buenos Aires"
      ]
     },
     "execution_count": 2,
     "metadata": {},
     "output_type": "execute_result"
    }
   ],
   "source": [
    "clientes = pd.read_csv('Clientes.csv', sep=';')\n",
    "clientes.head()"
   ]
  },
  {
   "cell_type": "markdown",
   "id": "studied-raise",
   "metadata": {},
   "source": [
    "#### Datos de las ventas"
   ]
  },
  {
   "cell_type": "code",
   "execution_count": 3,
   "id": "royal-composite",
   "metadata": {},
   "outputs": [
    {
     "data": {
      "text/html": [
       "<div>\n",
       "<style scoped>\n",
       "    .dataframe tbody tr th:only-of-type {\n",
       "        vertical-align: middle;\n",
       "    }\n",
       "\n",
       "    .dataframe tbody tr th {\n",
       "        vertical-align: top;\n",
       "    }\n",
       "\n",
       "    .dataframe thead th {\n",
       "        text-align: right;\n",
       "    }\n",
       "</style>\n",
       "<table border=\"1\" class=\"dataframe\">\n",
       "  <thead>\n",
       "    <tr style=\"text-align: right;\">\n",
       "      <th></th>\n",
       "      <th>Cliente</th>\n",
       "      <th>Fecha</th>\n",
       "      <th>Importe</th>\n",
       "      <th>Estado</th>\n",
       "    </tr>\n",
       "  </thead>\n",
       "  <tbody>\n",
       "    <tr>\n",
       "      <th>0</th>\n",
       "      <td>9452</td>\n",
       "      <td>01/01/2020</td>\n",
       "      <td>51356</td>\n",
       "      <td>Completado</td>\n",
       "    </tr>\n",
       "    <tr>\n",
       "      <th>1</th>\n",
       "      <td>9567</td>\n",
       "      <td>01/01/2020</td>\n",
       "      <td>96994</td>\n",
       "      <td>Completado</td>\n",
       "    </tr>\n",
       "    <tr>\n",
       "      <th>2</th>\n",
       "      <td>10551</td>\n",
       "      <td>01/01/2020</td>\n",
       "      <td>33280</td>\n",
       "      <td>Completado</td>\n",
       "    </tr>\n",
       "    <tr>\n",
       "      <th>3</th>\n",
       "      <td>9320</td>\n",
       "      <td>01/01/2020</td>\n",
       "      <td>18045</td>\n",
       "      <td>Completado</td>\n",
       "    </tr>\n",
       "    <tr>\n",
       "      <th>4</th>\n",
       "      <td>9043</td>\n",
       "      <td>01/01/2020</td>\n",
       "      <td>2286</td>\n",
       "      <td>Completado</td>\n",
       "    </tr>\n",
       "  </tbody>\n",
       "</table>\n",
       "</div>"
      ],
      "text/plain": [
       "   Cliente       Fecha  Importe      Estado\n",
       "0     9452  01/01/2020    51356  Completado\n",
       "1     9567  01/01/2020    96994  Completado\n",
       "2    10551  01/01/2020    33280  Completado\n",
       "3     9320  01/01/2020    18045  Completado\n",
       "4     9043  01/01/2020     2286  Completado"
      ]
     },
     "execution_count": 3,
     "metadata": {},
     "output_type": "execute_result"
    }
   ],
   "source": [
    "ventas = pd.read_csv('Ventas.csv')\n",
    "ventas.head()"
   ]
  },
  {
   "cell_type": "markdown",
   "id": "ceramic-volunteer",
   "metadata": {},
   "source": [
    "#### Combinamos ambos datasets"
   ]
  },
  {
   "cell_type": "code",
   "execution_count": 4,
   "id": "contrary-marine",
   "metadata": {},
   "outputs": [
    {
     "data": {
      "text/html": [
       "<div>\n",
       "<style scoped>\n",
       "    .dataframe tbody tr th:only-of-type {\n",
       "        vertical-align: middle;\n",
       "    }\n",
       "\n",
       "    .dataframe tbody tr th {\n",
       "        vertical-align: top;\n",
       "    }\n",
       "\n",
       "    .dataframe thead th {\n",
       "        text-align: right;\n",
       "    }\n",
       "</style>\n",
       "<table border=\"1\" class=\"dataframe\">\n",
       "  <thead>\n",
       "    <tr style=\"text-align: right;\">\n",
       "      <th></th>\n",
       "      <th>Cliente</th>\n",
       "      <th>Fecha</th>\n",
       "      <th>Importe</th>\n",
       "      <th>Estado</th>\n",
       "      <th>Nombre</th>\n",
       "      <th>Sexo</th>\n",
       "      <th>Zona</th>\n",
       "    </tr>\n",
       "  </thead>\n",
       "  <tbody>\n",
       "    <tr>\n",
       "      <th>0</th>\n",
       "      <td>9452</td>\n",
       "      <td>01/01/2020</td>\n",
       "      <td>51356</td>\n",
       "      <td>Completado</td>\n",
       "      <td>Romina_113</td>\n",
       "      <td>F</td>\n",
       "      <td>Capital Federal</td>\n",
       "    </tr>\n",
       "    <tr>\n",
       "      <th>1</th>\n",
       "      <td>9452</td>\n",
       "      <td>23/01/2020</td>\n",
       "      <td>79480</td>\n",
       "      <td>Completado</td>\n",
       "      <td>Romina_113</td>\n",
       "      <td>F</td>\n",
       "      <td>Capital Federal</td>\n",
       "    </tr>\n",
       "    <tr>\n",
       "      <th>2</th>\n",
       "      <td>9452</td>\n",
       "      <td>01/02/2020</td>\n",
       "      <td>3701</td>\n",
       "      <td>Completado</td>\n",
       "      <td>Romina_113</td>\n",
       "      <td>F</td>\n",
       "      <td>Capital Federal</td>\n",
       "    </tr>\n",
       "    <tr>\n",
       "      <th>3</th>\n",
       "      <td>9452</td>\n",
       "      <td>24/03/2020</td>\n",
       "      <td>9367</td>\n",
       "      <td>Completado</td>\n",
       "      <td>Romina_113</td>\n",
       "      <td>F</td>\n",
       "      <td>Capital Federal</td>\n",
       "    </tr>\n",
       "    <tr>\n",
       "      <th>4</th>\n",
       "      <td>9452</td>\n",
       "      <td>12/07/2020</td>\n",
       "      <td>34220</td>\n",
       "      <td>Completado</td>\n",
       "      <td>Romina_113</td>\n",
       "      <td>F</td>\n",
       "      <td>Capital Federal</td>\n",
       "    </tr>\n",
       "  </tbody>\n",
       "</table>\n",
       "</div>"
      ],
      "text/plain": [
       "   Cliente       Fecha  Importe      Estado      Nombre Sexo             Zona\n",
       "0     9452  01/01/2020    51356  Completado  Romina_113    F  Capital Federal\n",
       "1     9452  23/01/2020    79480  Completado  Romina_113    F  Capital Federal\n",
       "2     9452  01/02/2020     3701  Completado  Romina_113    F  Capital Federal\n",
       "3     9452  24/03/2020     9367  Completado  Romina_113    F  Capital Federal\n",
       "4     9452  12/07/2020    34220  Completado  Romina_113    F  Capital Federal"
      ]
     },
     "execution_count": 4,
     "metadata": {},
     "output_type": "execute_result"
    }
   ],
   "source": [
    "data = ventas.merge(clientes, on='Cliente')\n",
    "data.head()"
   ]
  },
  {
   "cell_type": "markdown",
   "id": "assured-remains",
   "metadata": {},
   "source": [
    "#### Pasamos la fecha a datetime"
   ]
  },
  {
   "cell_type": "code",
   "execution_count": 20,
   "id": "composed-buffalo",
   "metadata": {},
   "outputs": [],
   "source": [
    "data['Fecha'] = pd.to_datetime(data['Fecha'],format='%d/%M/%Y', errors='coerce')"
   ]
  },
  {
   "cell_type": "code",
   "execution_count": 21,
   "id": "uniform-butler",
   "metadata": {},
   "outputs": [
    {
     "data": {
      "text/plain": [
       "dtype('<M8[ns]')"
      ]
     },
     "execution_count": 21,
     "metadata": {},
     "output_type": "execute_result"
    }
   ],
   "source": [
    "data.Fecha.dtypes"
   ]
  },
  {
   "cell_type": "markdown",
   "id": "subsequent-mailman",
   "metadata": {},
   "source": [
    "#### Exportamos el dataset a un csv"
   ]
  },
  {
   "cell_type": "code",
   "execution_count": 22,
   "id": "norman-queue",
   "metadata": {},
   "outputs": [],
   "source": [
    "data.to_csv('ventas_clientes.csv', index=False)"
   ]
  },
  {
   "cell_type": "markdown",
   "id": "universal-samba",
   "metadata": {},
   "source": [
    "## Analizamos compras realizadas por distintos clientes. \n",
    "#### Info disponible: fecha de compra, numero de cliente, precio, el estado de la compra (completado o en viaje), nombre de la persona, sexo y ubicacion."
   ]
  },
  {
   "cell_type": "markdown",
   "id": "impressive-instrument",
   "metadata": {},
   "source": [
    "#### Cantidad de clientes"
   ]
  },
  {
   "cell_type": "code",
   "execution_count": 54,
   "id": "differential-senior",
   "metadata": {},
   "outputs": [
    {
     "data": {
      "text/plain": [
       "1624"
      ]
     },
     "execution_count": 54,
     "metadata": {},
     "output_type": "execute_result"
    }
   ],
   "source": [
    "data.Cliente.nunique() "
   ]
  },
  {
   "cell_type": "markdown",
   "id": "temporal-survival",
   "metadata": {},
   "source": [
    "#### Estado del viaje"
   ]
  },
  {
   "cell_type": "code",
   "execution_count": 55,
   "id": "backed-matthew",
   "metadata": {},
   "outputs": [
    {
     "data": {
      "text/plain": [
       "Completado    6833\n",
       "En Viaje        27\n",
       "Name: Estado, dtype: int64"
      ]
     },
     "execution_count": 55,
     "metadata": {},
     "output_type": "execute_result"
    }
   ],
   "source": [
    "data.Estado.value_counts()"
   ]
  },
  {
   "cell_type": "code",
   "execution_count": 85,
   "id": "liquid-porter",
   "metadata": {},
   "outputs": [
    {
     "data": {
      "text/html": [
       "<div>\n",
       "<style scoped>\n",
       "    .dataframe tbody tr th:only-of-type {\n",
       "        vertical-align: middle;\n",
       "    }\n",
       "\n",
       "    .dataframe tbody tr th {\n",
       "        vertical-align: top;\n",
       "    }\n",
       "\n",
       "    .dataframe thead th {\n",
       "        text-align: right;\n",
       "    }\n",
       "</style>\n",
       "<table border=\"1\" class=\"dataframe\">\n",
       "  <thead>\n",
       "    <tr style=\"text-align: right;\">\n",
       "      <th></th>\n",
       "      <th>Cliente</th>\n",
       "      <th>Fecha</th>\n",
       "      <th>Importe</th>\n",
       "      <th>Estado</th>\n",
       "      <th>Nombre</th>\n",
       "      <th>Sexo</th>\n",
       "      <th>Zona</th>\n",
       "    </tr>\n",
       "  </thead>\n",
       "  <tbody>\n",
       "    <tr>\n",
       "      <th>14</th>\n",
       "      <td>9567</td>\n",
       "      <td>2020-01-07 00:12:00</td>\n",
       "      <td>25752</td>\n",
       "      <td>En Viaje</td>\n",
       "      <td>Pedro_142</td>\n",
       "      <td>M</td>\n",
       "      <td>Capital Federal</td>\n",
       "    </tr>\n",
       "    <tr>\n",
       "      <th>66</th>\n",
       "      <td>9456</td>\n",
       "      <td>2020-01-07 00:12:00</td>\n",
       "      <td>54804</td>\n",
       "      <td>En Viaje</td>\n",
       "      <td>Romina_114</td>\n",
       "      <td>F</td>\n",
       "      <td>Capital Federal</td>\n",
       "    </tr>\n",
       "    <tr>\n",
       "      <th>1079</th>\n",
       "      <td>10260</td>\n",
       "      <td>2020-01-07 00:12:00</td>\n",
       "      <td>57856</td>\n",
       "      <td>En Viaje</td>\n",
       "      <td>Romina_315</td>\n",
       "      <td>F</td>\n",
       "      <td>Buenos Aires</td>\n",
       "    </tr>\n",
       "    <tr>\n",
       "      <th>1152</th>\n",
       "      <td>10336</td>\n",
       "      <td>2020-01-07 00:12:00</td>\n",
       "      <td>75090</td>\n",
       "      <td>En Viaje</td>\n",
       "      <td>Romina_334</td>\n",
       "      <td>F</td>\n",
       "      <td>Capital Federal</td>\n",
       "    </tr>\n",
       "    <tr>\n",
       "      <th>1257</th>\n",
       "      <td>10575</td>\n",
       "      <td>2020-01-08 00:12:00</td>\n",
       "      <td>44888</td>\n",
       "      <td>En Viaje</td>\n",
       "      <td>Pedro_394</td>\n",
       "      <td>M</td>\n",
       "      <td>Buenos Aires</td>\n",
       "    </tr>\n",
       "  </tbody>\n",
       "</table>\n",
       "</div>"
      ],
      "text/plain": [
       "      Cliente               Fecha  Importe    Estado      Nombre Sexo  \\\n",
       "14       9567 2020-01-07 00:12:00    25752  En Viaje   Pedro_142    M   \n",
       "66       9456 2020-01-07 00:12:00    54804  En Viaje  Romina_114    F   \n",
       "1079    10260 2020-01-07 00:12:00    57856  En Viaje  Romina_315    F   \n",
       "1152    10336 2020-01-07 00:12:00    75090  En Viaje  Romina_334    F   \n",
       "1257    10575 2020-01-08 00:12:00    44888  En Viaje   Pedro_394    M   \n",
       "\n",
       "                 Zona  \n",
       "14    Capital Federal  \n",
       "66    Capital Federal  \n",
       "1079     Buenos Aires  \n",
       "1152  Capital Federal  \n",
       "1257     Buenos Aires  "
      ]
     },
     "execution_count": 85,
     "metadata": {},
     "output_type": "execute_result"
    }
   ],
   "source": [
    "estado_enviaje = data[data['Estado'] == 'En Viaje']\n",
    "estado_enviaje.head(5)"
   ]
  },
  {
   "cell_type": "markdown",
   "id": "hybrid-sphere",
   "metadata": {},
   "source": [
    "#### Cantidad de compras que hizo cada cliente"
   ]
  },
  {
   "cell_type": "code",
   "execution_count": 56,
   "id": "minimal-allen",
   "metadata": {},
   "outputs": [
    {
     "data": {
      "text/plain": [
       "9359     12\n",
       "9827     11\n",
       "9869     10\n",
       "9504     10\n",
       "9136     10\n",
       "         ..\n",
       "9054      1\n",
       "10033     1\n",
       "9947      1\n",
       "10232     1\n",
       "9297      1\n",
       "Name: Cliente, Length: 1624, dtype: int64"
      ]
     },
     "execution_count": 56,
     "metadata": {},
     "output_type": "execute_result"
    }
   ],
   "source": [
    "data.Cliente.value_counts()"
   ]
  },
  {
   "cell_type": "markdown",
   "id": "false-selling",
   "metadata": {},
   "source": [
    "#### Compras promedio por cliente por mes"
   ]
  },
  {
   "cell_type": "code",
   "execution_count": 57,
   "id": "aboriginal-convertible",
   "metadata": {},
   "outputs": [
    {
     "data": {
      "text/plain": [
       "4.224137931034483"
      ]
     },
     "execution_count": 57,
     "metadata": {},
     "output_type": "execute_result"
    }
   ],
   "source": [
    "(data.Cliente.value_counts().sum())/(data.Cliente.nunique())"
   ]
  },
  {
   "cell_type": "code",
   "execution_count": 65,
   "id": "treated-devon",
   "metadata": {},
   "outputs": [
    {
     "data": {
      "text/plain": [
       "1624"
      ]
     },
     "execution_count": 65,
     "metadata": {},
     "output_type": "execute_result"
    }
   ],
   "source": [
    "data.Cliente.nunique()"
   ]
  },
  {
   "cell_type": "markdown",
   "id": "piano-interaction",
   "metadata": {},
   "source": [
    "#### Gasto promedio por cliente por mes"
   ]
  },
  {
   "cell_type": "code",
   "execution_count": 64,
   "id": "executive-diversity",
   "metadata": {},
   "outputs": [
    {
     "data": {
      "text/plain": [
       "213519.6379310345"
      ]
     },
     "execution_count": 64,
     "metadata": {},
     "output_type": "execute_result"
    }
   ],
   "source": [
    "(data.Importe.sum())/(data.Cliente.nunique())"
   ]
  },
  {
   "cell_type": "markdown",
   "id": "appropriate-decision",
   "metadata": {},
   "source": [
    "#### Clientes que más gastaron y el porcentaje del total de ventas mensuales"
   ]
  },
  {
   "cell_type": "code",
   "execution_count": 46,
   "id": "reasonable-somalia",
   "metadata": {},
   "outputs": [],
   "source": [
    "clientes_caros = pd.DataFrame(data.Importe.groupby(by=data['Cliente']).sum())\n",
    "clientes_caros = clientes_caros.sort_values(by='Importe', ascending=False)"
   ]
  },
  {
   "cell_type": "code",
   "execution_count": 48,
   "id": "illegal-leave",
   "metadata": {},
   "outputs": [],
   "source": [
    "clientes_caros['Porcentaje del total'] = (clientes_caros['Importe']*100)/(clientes_caros['Importe'].sum())"
   ]
  },
  {
   "cell_type": "code",
   "execution_count": 58,
   "id": "comic-collar",
   "metadata": {},
   "outputs": [
    {
     "data": {
      "text/html": [
       "<div>\n",
       "<style scoped>\n",
       "    .dataframe tbody tr th:only-of-type {\n",
       "        vertical-align: middle;\n",
       "    }\n",
       "\n",
       "    .dataframe tbody tr th {\n",
       "        vertical-align: top;\n",
       "    }\n",
       "\n",
       "    .dataframe thead th {\n",
       "        text-align: right;\n",
       "    }\n",
       "</style>\n",
       "<table border=\"1\" class=\"dataframe\">\n",
       "  <thead>\n",
       "    <tr style=\"text-align: right;\">\n",
       "      <th></th>\n",
       "      <th>Importe</th>\n",
       "      <th>Porcentaje del total</th>\n",
       "    </tr>\n",
       "    <tr>\n",
       "      <th>Cliente</th>\n",
       "      <th></th>\n",
       "      <th></th>\n",
       "    </tr>\n",
       "  </thead>\n",
       "  <tbody>\n",
       "    <tr>\n",
       "      <th>9869</th>\n",
       "      <td>624944</td>\n",
       "      <td>0.180226</td>\n",
       "    </tr>\n",
       "    <tr>\n",
       "      <th>10377</th>\n",
       "      <td>614929</td>\n",
       "      <td>0.177338</td>\n",
       "    </tr>\n",
       "    <tr>\n",
       "      <th>10373</th>\n",
       "      <td>607407</td>\n",
       "      <td>0.175168</td>\n",
       "    </tr>\n",
       "    <tr>\n",
       "      <th>9576</th>\n",
       "      <td>593188</td>\n",
       "      <td>0.171068</td>\n",
       "    </tr>\n",
       "    <tr>\n",
       "      <th>10168</th>\n",
       "      <td>586896</td>\n",
       "      <td>0.169253</td>\n",
       "    </tr>\n",
       "    <tr>\n",
       "      <th>9625</th>\n",
       "      <td>555205</td>\n",
       "      <td>0.160114</td>\n",
       "    </tr>\n",
       "    <tr>\n",
       "      <th>10443</th>\n",
       "      <td>553345</td>\n",
       "      <td>0.159578</td>\n",
       "    </tr>\n",
       "    <tr>\n",
       "      <th>9590</th>\n",
       "      <td>548018</td>\n",
       "      <td>0.158041</td>\n",
       "    </tr>\n",
       "    <tr>\n",
       "      <th>9023</th>\n",
       "      <td>531153</td>\n",
       "      <td>0.153178</td>\n",
       "    </tr>\n",
       "    <tr>\n",
       "      <th>9827</th>\n",
       "      <td>530030</td>\n",
       "      <td>0.152854</td>\n",
       "    </tr>\n",
       "    <tr>\n",
       "      <th>9547</th>\n",
       "      <td>528582</td>\n",
       "      <td>0.152436</td>\n",
       "    </tr>\n",
       "    <tr>\n",
       "      <th>10411</th>\n",
       "      <td>526417</td>\n",
       "      <td>0.151812</td>\n",
       "    </tr>\n",
       "    <tr>\n",
       "      <th>9984</th>\n",
       "      <td>520446</td>\n",
       "      <td>0.150090</td>\n",
       "    </tr>\n",
       "    <tr>\n",
       "      <th>10136</th>\n",
       "      <td>512372</td>\n",
       "      <td>0.147762</td>\n",
       "    </tr>\n",
       "    <tr>\n",
       "      <th>9504</th>\n",
       "      <td>509925</td>\n",
       "      <td>0.147056</td>\n",
       "    </tr>\n",
       "    <tr>\n",
       "      <th>10327</th>\n",
       "      <td>507117</td>\n",
       "      <td>0.146246</td>\n",
       "    </tr>\n",
       "    <tr>\n",
       "      <th>9489</th>\n",
       "      <td>504602</td>\n",
       "      <td>0.145521</td>\n",
       "    </tr>\n",
       "    <tr>\n",
       "      <th>10619</th>\n",
       "      <td>499912</td>\n",
       "      <td>0.144168</td>\n",
       "    </tr>\n",
       "    <tr>\n",
       "      <th>9450</th>\n",
       "      <td>497504</td>\n",
       "      <td>0.143474</td>\n",
       "    </tr>\n",
       "    <tr>\n",
       "      <th>9223</th>\n",
       "      <td>488374</td>\n",
       "      <td>0.140841</td>\n",
       "    </tr>\n",
       "  </tbody>\n",
       "</table>\n",
       "</div>"
      ],
      "text/plain": [
       "         Importe  Porcentaje del total\n",
       "Cliente                               \n",
       "9869      624944              0.180226\n",
       "10377     614929              0.177338\n",
       "10373     607407              0.175168\n",
       "9576      593188              0.171068\n",
       "10168     586896              0.169253\n",
       "9625      555205              0.160114\n",
       "10443     553345              0.159578\n",
       "9590      548018              0.158041\n",
       "9023      531153              0.153178\n",
       "9827      530030              0.152854\n",
       "9547      528582              0.152436\n",
       "10411     526417              0.151812\n",
       "9984      520446              0.150090\n",
       "10136     512372              0.147762\n",
       "9504      509925              0.147056\n",
       "10327     507117              0.146246\n",
       "9489      504602              0.145521\n",
       "10619     499912              0.144168\n",
       "9450      497504              0.143474\n",
       "9223      488374              0.140841"
      ]
     },
     "execution_count": 58,
     "metadata": {},
     "output_type": "execute_result"
    }
   ],
   "source": [
    "clientes_caros.head(20)"
   ]
  },
  {
   "cell_type": "markdown",
   "id": "commercial-paste",
   "metadata": {},
   "source": [
    "#### Ventas realizadas por zona"
   ]
  },
  {
   "cell_type": "code",
   "execution_count": 61,
   "id": "chemical-happening",
   "metadata": {},
   "outputs": [
    {
     "data": {
      "text/plain": [
       "Capital Federal    4127\n",
       "Buenos Aires       1696\n",
       "Cordoba             715\n",
       "Santa Fe            322\n",
       "Name: Zona, dtype: int64"
      ]
     },
     "execution_count": 61,
     "metadata": {},
     "output_type": "execute_result"
    }
   ],
   "source": [
    "data.Zona.value_counts() "
   ]
  },
  {
   "cell_type": "markdown",
   "id": "thick-exception",
   "metadata": {},
   "source": [
    "#### Ventas por sexo"
   ]
  },
  {
   "cell_type": "code",
   "execution_count": 62,
   "id": "democratic-russian",
   "metadata": {},
   "outputs": [
    {
     "data": {
      "text/plain": [
       "F    3472\n",
       "M    3388\n",
       "Name: Sexo, dtype: int64"
      ]
     },
     "execution_count": 62,
     "metadata": {},
     "output_type": "execute_result"
    }
   ],
   "source": [
    "data.Sexo.value_counts() "
   ]
  },
  {
   "cell_type": "code",
   "execution_count": null,
   "id": "thermal-vitamin",
   "metadata": {},
   "outputs": [],
   "source": []
  }
 ],
 "metadata": {
  "kernelspec": {
   "display_name": "Python 3",
   "language": "python",
   "name": "python3"
  },
  "language_info": {
   "codemirror_mode": {
    "name": "ipython",
    "version": 3
   },
   "file_extension": ".py",
   "mimetype": "text/x-python",
   "name": "python",
   "nbconvert_exporter": "python",
   "pygments_lexer": "ipython3",
   "version": "3.8.6"
  }
 },
 "nbformat": 4,
 "nbformat_minor": 5
}
